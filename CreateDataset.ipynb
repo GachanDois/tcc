{
 "cells": [
  {
   "cell_type": "code",
   "execution_count": 1,
   "metadata": {},
   "outputs": [],
   "source": [
    "import os\n",
    "import pandas as pd\n",
    "import librosa\n",
    "from pydub import AudioSegment"
   ]
  },
  {
   "cell_type": "code",
   "execution_count": 14,
   "metadata": {},
   "outputs": [
    {
     "name": "stdout",
     "output_type": "stream",
     "text": [
      "Dia Mundial do Meio Ambiente_ Pronunciamento da Ministra Marina Silva.mp4 convertido para Dia Mundial do Meio Ambiente_ Pronunciamento da Ministra Marina Silva.wav\n",
      "Discurso de Marina Silva na posse como ministra do Meio Ambiente e Mudança Climática (íntegra).mp4 convertido para Discurso de Marina Silva na posse como ministra do Meio Ambiente e Mudança Climática (íntegra).wav\n",
      "Falas Negras_ Marielle Franco por Taís Araújo.mp4 convertido para Falas Negras_ Marielle Franco por Taís Araújo.wav\n",
      "MARIELLE FALA SOBRE O DIREITO AO ABORTO.mp4 convertido para MARIELLE FALA SOBRE O DIREITO AO ABORTO.wav\n",
      "Marielle Franco discursa na Solenidade de Posse 2018 do Cofecon.mp4 convertido para Marielle Franco discursa na Solenidade de Posse 2018 do Cofecon.wav\n",
      "Marina Silva defende a demarcação de terras como atribuição do Ministério dos Povos Indígenas.mp4 convertido para Marina Silva defende a demarcação de terras como atribuição do Ministério dos Povos Indígenas.wav\n",
      "marinadisc.mp4 convertido para marinadisc.wav\n",
      "NÃO SEREI INTERROMPIDA _ 08_03_2018.mp4 convertido para NÃO SEREI INTERROMPIDA _ 08_03_2018.wav\n",
      "Primeira fala da Marielle Franco no Plenário da Câmara do Rio.mp4 convertido para Primeira fala da Marielle Franco no Plenário da Câmara do Rio.wav\n",
      "videoplayback (3).mp4 convertido para videoplayback (3).wav\n",
      "“O choro é livre”_ Maju Coutinho pede desculpas, após demonstrar indiferença a trabalhadores.mp4 convertido para “O choro é livre”_ Maju Coutinho pede desculpas, após demonstrar indiferença a trabalhadores.wav\n"
     ]
    }
   ],
   "source": [
    "import os\n",
    "from pydub import AudioSegment\n",
    "from pydub.utils import make_chunks\n",
    "\n",
    "def convert_to_wav(input_folder, output_folder):\n",
    "    # Verifica se a pasta de saída existe, se não, cria-a\n",
    "    if not os.path.exists(output_folder):\n",
    "        os.makedirs(output_folder)\n",
    "    \n",
    "    # Lista todos os arquivos na pasta de entrada\n",
    "    for file_name in os.listdir(input_folder):\n",
    "        # Verifica se o arquivo é um arquivo de áudio\n",
    "        if file_name.endswith(('.mp3', '.ogg', '.flac', '.mp4', '.aac', '.m4a')):\n",
    "            # Carrega o arquivo de áudio usando o pydub\n",
    "            audio = AudioSegment.from_file(os.path.join(input_folder, file_name))\n",
    "            \n",
    "            # Gera o nome do arquivo de saída com a extensão WAV\n",
    "            output_file = os.path.splitext(file_name)[0] + '.wav'\n",
    "            output_path = os.path.join(output_folder, output_file)\n",
    "            \n",
    "            # Converte e salva o arquivo de áudio para WAV\n",
    "            audio.export(output_path, format=\"wav\")\n",
    "            print(f\"{file_name} convertido para {output_file}\")\n",
    "\n",
    "# Chama a função para converter os arquivos na pasta \"input\" e salvar na pasta \"output\"\n",
    "convert_to_wav(\"\\TCC\\Audios pra passar\", \"\\TCC\\AudiosWAVReal\")"
   ]
  },
  {
   "cell_type": "code",
   "execution_count": 15,
   "metadata": {},
   "outputs": [
    {
     "name": "stderr",
     "output_type": "stream",
     "text": [
      "c:\\Users\\gabri\\AppData\\Local\\Programs\\Python\\Python311\\Lib\\site-packages\\librosa\\core\\pitch.py:101: UserWarning: Trying to estimate tuning from empty frequency set.\n",
      "  return pitch_tuning(\n"
     ]
    }
   ],
   "source": [
    "\n",
    "# Função para extrair as características de áudio\n",
    "def extrair_caracteristicas(audio, taxa_amostragem):\n",
    "    chroma_stft = librosa.feature.chroma_stft(y=audio, sr=taxa_amostragem)\n",
    "    chroma_mean = chroma_stft.mean(axis=1)\n",
    "    chroma_over_mean = chroma_mean.mean()\n",
    "\n",
    "    rms = librosa.feature.rms(y=audio)\n",
    "    rms_mean = rms.mean()\n",
    "\n",
    "    spectral_centroid = librosa.feature.spectral_centroid(y=audio, sr=taxa_amostragem)\n",
    "    spectral_centroid_mean = spectral_centroid.mean()\n",
    "\n",
    "    spectral_bandwidth = librosa.feature.spectral_bandwidth(y=audio, sr=taxa_amostragem)\n",
    "    spectral_bandwidth_mean = spectral_bandwidth.mean()\n",
    "\n",
    "    rolloff = librosa.feature.spectral_rolloff(y=audio, sr=taxa_amostragem, roll_percent=0.85)\n",
    "    spectral_rolloff_mean = rolloff.mean()\n",
    "\n",
    "    zero_crossing_rate = librosa.feature.zero_crossing_rate(audio)\n",
    "    zero_crossing_rate_mean = zero_crossing_rate.mean()\n",
    "\n",
    "    mfccs = librosa.feature.mfcc(y=audio, sr=taxa_amostragem, n_mfcc=20)\n",
    "    mfccs_mean = mfccs.mean(axis=1)\n",
    "\n",
    "    return (chroma_over_mean, rms_mean, spectral_centroid_mean, spectral_bandwidth_mean, spectral_rolloff_mean, zero_crossing_rate_mean, *mfccs_mean)\n",
    "\n",
    "# Função para criar o DataFrame a partir dos dados\n",
    "def criar_dataframe(caminho_audio):\n",
    "    audio, taxa_amostragem = librosa.load(caminho_audio, sr=None)\n",
    "    tamanho_janela = taxa_amostragem  # 1 segundo\n",
    "    label = 'REAL'  # Substitua 'LABEL' pelo rótulo apropriado\n",
    "    passo = tamanho_janela\n",
    "    inicio = 0\n",
    "    fim = tamanho_janela\n",
    "    dados = []\n",
    "\n",
    "    while fim <= len(audio):\n",
    "        segmento = audio[inicio:fim]\n",
    "        caracteristicas = extrair_caracteristicas(segmento, taxa_amostragem)\n",
    "        dados.append(caracteristicas + (label,))\n",
    "        inicio += passo\n",
    "        fim += passo\n",
    "\n",
    "    colunas = ['chroma_stft', 'rms', 'spectral_centroid', 'spectral_bandwidth', 'rolloff', 'zero_crossing_rate',\n",
    "               'mfcc1', 'mfcc2', 'mfcc3', 'mfcc4', 'mfcc5', 'mfcc6', 'mfcc7', 'mfcc8', 'mfcc9', 'mfcc10',\n",
    "               'mfcc11', 'mfcc12', 'mfcc13', 'mfcc14', 'mfcc15', 'mfcc16', 'mfcc17', 'mfcc18', 'mfcc19', 'mfcc20',\n",
    "               'LABEL']\n",
    "    df = pd.DataFrame(data=dados, columns=colunas)\n",
    "    \n",
    "    return df\n",
    "\n",
    "\n",
    "\n",
    "# Função para processar todos os arquivos de áudio em uma pasta\n",
    "def processar_pasta(pasta_audio):\n",
    "    dados_totais = []\n",
    "\n",
    "    # Percorre todos os arquivos na pasta\n",
    "    for arquivo in os.listdir(pasta_audio):\n",
    "        caminho_arquivo = os.path.join(pasta_audio, arquivo)\n",
    "        if os.path.isfile(caminho_arquivo) and caminho_arquivo.endswith('.wav'):\n",
    "            # Extrai o rótulo do nome do arquivo, se desejado\n",
    "            label = arquivo.split('.')[0]  # Exemplo de extração de rótulo do nome do arquivo\n",
    "\n",
    "            # Cria DataFrame para o arquivo de áudio atual\n",
    "            df = criar_dataframe(caminho_arquivo)\n",
    "            dados_totais.append(df)\n",
    "\n",
    "    # Concatena todos os DataFrames em um único DataFrame final\n",
    "    df_final = pd.concat(dados_totais, ignore_index=True)\n",
    "    return df_final\n",
    "\n",
    "# Pasta contendo os arquivos de áudio\n",
    "pasta_audio = \"\\TCC\\AudiosWAVReal\"\n",
    "\n",
    "# Chama a função para processar todos os arquivos de áudio na pasta\n",
    "df_final = processar_pasta(pasta_audio)\n",
    "\n",
    "# Agora você tem um único DataFrame contendo todas as características extraídas de todos os arquivos de áudio na pasta\n",
    "\n",
    "df_final\n",
    "\n",
    "\n"
   ]
  },
  {
   "cell_type": "code",
   "execution_count": 19,
   "metadata": {},
   "outputs": [],
   "source": [
    "df_final.to_csv('/TCC/DadosReal.csv', index=False)"
   ]
  },
  {
   "cell_type": "code",
   "execution_count": null,
   "metadata": {},
   "outputs": [],
   "source": []
  }
 ],
 "metadata": {
  "kernelspec": {
   "display_name": "Python 3",
   "language": "python",
   "name": "python3"
  },
  "language_info": {
   "codemirror_mode": {
    "name": "ipython",
    "version": 3
   },
   "file_extension": ".py",
   "mimetype": "text/x-python",
   "name": "python",
   "nbconvert_exporter": "python",
   "pygments_lexer": "ipython3",
   "version": "3.11.4"
  }
 },
 "nbformat": 4,
 "nbformat_minor": 2
}
